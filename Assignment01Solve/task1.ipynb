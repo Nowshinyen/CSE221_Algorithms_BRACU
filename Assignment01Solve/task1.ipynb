{
  "nbformat": 4,
  "nbformat_minor": 0,
  "metadata": {
    "colab": {
      "provenance": []
    },
    "kernelspec": {
      "name": "python3",
      "display_name": "Python 3"
    },
    "language_info": {
      "name": "python"
    }
  },
  "cells": [
    {
      "cell_type": "code",
      "source": [
        "# task 01 (a)\n",
        "inp_file=open('input1a.txt','r')\n",
        "out_file=open('output1a.txt','w')\n",
        "temp=int (inp_file.readline())\n",
        "\n",
        "for a in range(temp) :\n",
        "  i=int(inp_file.readline())\n",
        "  \n",
        "  if i%2==0 :\n",
        "    out_file.write(str(i)+\" \"+ 'is an Even number.\\n')\n",
        "  \n",
        "  else :\n",
        "    out_file.write(str(i) +\" \" + 'is an Odd number.\\n')\n",
        "#--------------\n",
        "inp_file.close()\n",
        "out_file.close()    "
      ],
      "metadata": {
        "id": "kFUrN0FaJuXP"
      },
      "execution_count": 6,
      "outputs": []
    },
    {
      "cell_type": "code",
      "source": [
        "# task 01 (b)\n",
        "inp_file=open('input1b.txt','r')\n",
        "out_file=open('output1b.txt','w')\n",
        "num= inp_file.readline()\n",
        "num_line= inp_file.readlines()\n",
        "#------------------------------\n",
        "\n",
        "\n",
        "for a in range(len(num_line)):\n",
        "  num_line[a]=num_line[a].split()\n",
        "\n",
        "for calc in num_line:\n",
        "  if calc[2] =='+':\n",
        "    output =int(calc[1])+ int(calc[3])\n",
        "  if calc[2] =='-':\n",
        "    output=int(calc[1])- int(calc[3])\n",
        "  if calc[2] =='/':\n",
        "    output=int(calc[1])/ int(calc[3])\n",
        "  if  calc[2] =='*':\n",
        "    output=int(calc[1])* int(calc[3])\n",
        "  \n",
        "  temp='The result of '+str(calc[1])+\" \"+str(calc[2])+' '+str(calc[3])+' is '+str(output) + '\\n'\n",
        "  out_file.write(temp)\n",
        "#--------------\n",
        "inp_file.close()\n",
        "out_file.close()   \n"
      ],
      "metadata": {
        "id": "6rk7mxMmPC7X"
      },
      "execution_count": 12,
      "outputs": []
    }
  ]
}
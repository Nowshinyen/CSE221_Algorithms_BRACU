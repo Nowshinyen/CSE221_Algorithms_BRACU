{
  "nbformat": 4,
  "nbformat_minor": 0,
  "metadata": {
    "colab": {
      "provenance": []
    },
    "kernelspec": {
      "name": "python3",
      "display_name": "Python 3"
    },
    "language_info": {
      "name": "python"
    }
  },
  "cells": [
    {
      "cell_type": "code",
      "execution_count": 18,
      "metadata": {
        "id": "aSGUH8BG87-g"
      },
      "outputs": [],
      "source": [
        "def bubbleSort(array):\n",
        "    temp= True\n",
        "    for i in range(1,len(array)) :\n",
        "        if array[i] < array[i-1] :\n",
        "            temp=False\n",
        "        \n",
        "        else:\n",
        "            continue\n",
        "    \n",
        "    if temp ==False:\n",
        "        for x in range(len(array) - 1) :\n",
        "            for y in range(len(array)-x-1) :\n",
        "                \n",
        "                if array[y] > array[y + 1] :\n",
        "                    array[y],array[y + 1] = array[y + 1],array[y]\n",
        "    return array\n",
        "\n",
        "    if temp==True :\n",
        "        return array\n",
        "#---------------------------------------\n",
        "inp_file=open('input3.txt','r')\n",
        "out_file=open('output3.txt','w')\n",
        "num=inp_file.readline()\n",
        "num_line=inp_file.readlines()    \n",
        "\n",
        "for a in num_line:\n",
        "    list_1=a.split()\n",
        "store_list=[]\n",
        "store=''\n",
        "\n",
        "for b in list_1:\n",
        "    store_list.append(int(b))\n",
        "sort=bubbleSort(store_list)\n",
        "\n",
        "for c in sort:\n",
        "    store=store+ str(c)+\" \"\n",
        "out_file.write(store)\n",
        "\n",
        "#--------------\n",
        "inp_file.close()\n",
        "out_file.close()\n",
        "# In the bubble sort algorithm,for each outer loop iteration. \n",
        "#It will swap value after comparing every element. \n",
        "#So,the time complexity will be θ(n^2)\n",
        "#Again,for the best case scenario, if the array is sorted completely \n",
        "#then we only need a single loop to check the array is sorted or not.\n",
        "#So,the time complexity will be θ(n)\n"
      ]
    }
  ]
}